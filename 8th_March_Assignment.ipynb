{
 "cells": [
  {
   "cell_type": "markdown",
   "id": "e13fe7b8-91a2-477a-8645-c7edf04bdf04",
   "metadata": {},
   "source": [
    "Q1. What is the Probability density function?"
   ]
  },
  {
   "cell_type": "markdown",
   "id": "428f8781-ef18-4dfa-8a66-9332820ff7e8",
   "metadata": {},
   "source": [
    "The Probability Density Function(PDF) defines the probability function representing the density of a continuous random variable lying between a specific range of values. In other words, the probability density function produces the likelihood of values of the continuous random variable."
   ]
  },
  {
   "cell_type": "markdown",
   "id": "97b4c973-58fc-47a9-be94-7507dbf6fb41",
   "metadata": {},
   "source": [
    "Q2. What are the types of Probability distribution?"
   ]
  },
  {
   "cell_type": "markdown",
   "id": "8822d524-ec92-4275-b824-d919db948096",
   "metadata": {},
   "source": [
    " The 6 common probability distributions are Bernoulli, Uniform, Binomial, Normal, Poisson, and Exponential Distribution."
   ]
  },
  {
   "cell_type": "markdown",
   "id": "3ef7ef72-1383-4c8f-bcea-9a2d471a973e",
   "metadata": {},
   "source": [
    "Q3. Write a Python function to calculate the probability density function of a normal distribution with\n",
    "given mean and standard deviation at a given point."
   ]
  },
  {
   "cell_type": "code",
   "execution_count": 1,
   "id": "908af4e5-d2f0-473f-a1fa-06c1dc8bd7af",
   "metadata": {},
   "outputs": [],
   "source": [
    "import scipy.stats as stats\n",
    "def comput_pdf(given_point,mean,standard_deviation):\n",
    "    pdf = stats.norm.pdf(given_point,loc = mean, scale = standard_deviation)\n",
    "    return pdf\n",
    "    "
   ]
  },
  {
   "cell_type": "code",
   "execution_count": 3,
   "id": "ca8511e3-f8ab-4ee3-ba0e-44427591de76",
   "metadata": {},
   "outputs": [
    {
     "data": {
      "text/plain": [
       "0.024197072451914336"
      ]
     },
     "execution_count": 3,
     "metadata": {},
     "output_type": "execute_result"
    }
   ],
   "source": [
    "given_point = 60\n",
    "mean = 50\n",
    "standard_deviation = 10\n",
    "comput_pdf(given_point,mean,standard_deviation)"
   ]
  },
  {
   "cell_type": "markdown",
   "id": "232fd541-3afc-478c-a0f1-6ace6da02773",
   "metadata": {},
   "source": [
    "Q4. What are the properties of Binomial distribution? Give two examples of events where binomial\n",
    "distribution can be applied."
   ]
  },
  {
   "cell_type": "markdown",
   "id": "9657aae1-e1a3-4522-b948-32ae3658e78a",
   "metadata": {},
   "source": [
    "\n",
    "The binomial distribution is a discrete probability distribution that models the number of successes in a fixed number of independent Bernoulli trials. It is characterized by two parameters: the probability of success (p) and the number of trials (n). The properties of the binomial distribution are as follows:                        \n",
    "\n",
    "1. Fixed Number of Trials (n): The binomial distribution assumes a fixed number of independent trials, denoted as \"n.\" Each trial can have one of two possible outcomes: success or failure.                                 \n",
    "\n",
    "2. Independent Trials: The trials are assumed to be independent, meaning the outcome of one trial does not affect the outcome of any other trial.                                             \n",
    "\n",
    "3. Binary Outcomes: Each trial has two possible outcomes, often denoted as success (S) and failure (F). These outcomes are mutually exclusive.                                                         \n",
    "\n",
    "4. Constant Probability of Success (p): The probability of success (p) is the same for each trial. The probability of failure (1 - p) is also constant.                                                                \n",
    "\n",
    "5. Discreteness: The binomial distribution is discrete, meaning it deals with whole numbers. The random variable follows a binomial distribution, and its possible values are non-negative integers from 0 to n.               \n",
    "\n",
    "Probability Mass Function (PMF): The probability mass function of the binomial distribution is given by the formula:                            \n",
    "\n",
    "P(X=k)=(k\n",
    "        n)p^k*(1−p)^n-k                                                              \n",
    "\n",
    " \n",
    "where \"X\" is the random variable, \"k\" is the number of successes, and \n",
    " represents the binomial coefficient, which calculates the number of ways to choose \"k\" successes out of \"n\" trials.                                                                           \n",
    "\n",
    "Two examples of events where the binomial distribution can be applied are:                                \n",
    "\n",
    "1. Coin Toss: The outcome of a series of coin tosses can be modeled using a binomial distribution. Each coin toss has two possible outcomes: heads (success) or tails (failure). If you perform a fixed number of coin tosses (n), you can calculate the probability of getting a certain number of heads (k) based on the probability of heads (p = 0.5).                                                                           \n",
    "\n",
    "2. Quality Control: In manufacturing, the binomial distribution is used for quality control. For example, if a factory produces a large number of items (n), and each item has a probability of being defective (p), you can use the binomial distribution to calculate the probability of a specific number of defective items in the production batch (k).                                                       \n",
    "\n",
    "In both of these examples, you have a fixed number of independent trials with two possible outcomes (success and failure), making the binomial distribution a suitable model for these scenarios."
   ]
  },
  {
   "cell_type": "markdown",
   "id": "4ddcfbe5-446b-4718-8397-4d9485933b6a",
   "metadata": {},
   "source": [
    "Q5. Generate a random sample of size 1000 from a binomial distribution with probability of success 0.4\n",
    "and plot a histogram of the results using matplotlib."
   ]
  },
  {
   "cell_type": "code",
   "execution_count": 5,
   "id": "c9409440-6316-47a1-89fa-ea6517ba29e9",
   "metadata": {},
   "outputs": [
    {
     "data": {
      "image/png": "[encoded data removed]",
      "text/plain": [
       "<Figure size 640x480 with 1 Axes>"
      ]
     },
     "metadata": {},
     "output_type": "display_data"
    }
   ],
   "source": [
    "import numpy as np\n",
    "import matplotlib.pyplot as plt\n",
    "\n",
    "\n",
    "# Generating a random sample using binomial distribution\n",
    "random_sample = np.random.binomial(n=1,p=0.4,size = 1000)\n",
    "\n",
    "# Create a histogram of the results\n",
    "plt.hist(random_sample, bins=2, density=True, alpha=0.6, color='b')\n",
    "plt.title('Binomial Distribution Histogram')\n",
    "plt.xlabel('Outcome')\n",
    "plt.ylabel('Frequency')\n",
    "\n",
    "# Set the x-axis labels to 'Success' and 'Failure'\n",
    "plt.xticks([0, 1], ['Failure', 'Success'])\n",
    "\n",
    "plt.show()"
   ]
  },
  {
   "cell_type": "markdown",
   "id": "0365d2e6-bb77-408b-8caf-966535007911",
   "metadata": {},
   "source": [
    "Q6. Write a Python function to calculate the cumulative distribution function of a Poisson distribution\n",
    "with given mean at a given point."
   ]
  },
  {
   "cell_type": "code",
   "execution_count": 8,
   "id": "d9d8fba2-f94e-4f6c-8923-fa651c157465",
   "metadata": {},
   "outputs": [],
   "source": [
    "def poisson_CDF(k,mean):\n",
    "    CDF = stats.poisson.cdf(k,mu = mean)\n",
    "    return CDF"
   ]
  },
  {
   "cell_type": "code",
   "execution_count": 9,
   "id": "50e23d8a-43e8-47ae-aba6-a90c44c5f3e6",
   "metadata": {},
   "outputs": [
    {
     "data": {
      "text/plain": [
       "0.3007082761743609"
      ]
     },
     "execution_count": 9,
     "metadata": {},
     "output_type": "execute_result"
    }
   ],
   "source": [
    "point = 5\n",
    "mean = 7\n",
    "poisson_CDF(point,mean)"
   ]
  },
  {
   "cell_type": "markdown",
   "id": "901d2acd-165c-496a-bd5f-1d6bc636e622",
   "metadata": {},
   "source": [
    "Q7. How Binomial distribution different from Poisson distribution?"
   ]
  },
  {
   "cell_type": "markdown",
   "id": "8bbd995d-b923-41f3-8810-8746d5c83ad2",
   "metadata": {},
   "source": [
    "The Binomial distribution and the Poisson distribution are both probability distributions used in statistics to model the number of events or successes in a series of trials or occurrences. However, they are different in terms of their underlying assumptions, characteristics, and applications:                                            \n",
    "\n",
    "1. Number of Trials:                                                     \n",
    "\n",
    "Binomial Distribution: The Binomial distribution is used when there is a fixed number of trials (n), and each trial has two possible outcomes (success or failure).                                                  \n",
    "Poisson Distribution: The Poisson distribution is used when the number of trials is not fixed, and events occur randomly over time or space.                                                                \n",
    "2. Outcomes:                                                      \n",
    "\n",
    "Binomial Distribution: In a Binomial distribution, the outcomes are binary, such as success/failure, yes/no, or heads/tails.                                                           \n",
    "Poisson Distribution: The Poisson distribution models the number of events or occurrences within a fixed interval of time or space.                                                             \n",
    "3. Probability of Success:                                                                                                                                                               \n",
    "\n",
    "Binomial Distribution: In the Binomial distribution, the probability of success (p) is constant for each trial.    \n",
    "Poisson Distribution: In the Poisson distribution, the probability of success varies with time or space, but it is typically low, and the distribution is characterized by the average rate (λ) of events.                       \n",
    "4. Nature of Trials:                                                             \n",
    "\n",
    "Binomial Distribution: Binomial trials are often described as \"with replacement.\" In each trial, the probability of success remains the same, and the trials are independent.                                            \n",
    "Poisson Distribution: Poisson events are often described as \"without replacement.\" Events occur independently, and as events occur, the probability of additional events changes.                                              \n",
    "5. Discreteness:                                                            \n",
    "\n",
    "Binomial Distribution: The Binomial distribution is discrete, dealing with a count of discrete, whole numbers of successes.                                                                         \n",
    "Poisson Distribution: The Poisson distribution is also discrete, dealing with a count of events, but the events can theoretically range from 0 to infinity.                                                             \n",
    "6. Parameters:                                                      \n",
    "\n",
    "Binomial Distribution: The Binomial distribution is defined by two parameters: the number of trials (n) and the probability of success (p).                                                                                      \n",
    "Poisson Distribution: The Poisson distribution is defined by a single parameter, the average rate of events (λ).                         \n",
    "7. Applications:                                                                       \n",
    "\n",
    "Binomial Distribution: It is often used to model situations where there is a fixed number of trials with binary outcomes, such as coin tosses, the success/failure of a product, or the number of heads in a series of coin flips.                                       \n",
    "Poisson Distribution: It is commonly applied to describe the number of events that occur in a fixed interval, such as the number of phone calls at a call center in a given hour or the number of car accidents in a day in a specific location.                                                         \n",
    "In summary, while both the Binomial and Poisson distributions deal with counting events or successes, they differ in terms of the number of trials, the nature of trials, and the variability in the probability of success. The choice between these distributions depends on the specific characteristics of the data and the underlying process being modeled."
   ]
  },
  {
   "cell_type": "markdown",
   "id": "13104126-130a-4bc9-adfe-d59639a49acc",
   "metadata": {},
   "source": [
    "Q8. Generate a random sample of size 1000 from a Poisson distribution with mean 5 and calculate the\n",
    "sample mean and variance."
   ]
  },
  {
   "cell_type": "code",
   "execution_count": 10,
   "id": "0c2fece1-c827-48d4-bd6e-539e184c3a54",
   "metadata": {},
   "outputs": [
    {
     "name": "stdout",
     "output_type": "stream",
     "text": [
      "sample_mean :, 4.957\n",
      "Sample_variance : 4.849151\n"
     ]
    }
   ],
   "source": [
    "#Generating random sample using poisson distribution\n",
    "mean = 5\n",
    "sample_size = 1000\n",
    "random_sample = np.random.poisson(mean,sample_size)\n",
    "\n",
    "# Calculating the sample mean\n",
    "sample_mean = np.mean(random_sample)\n",
    "print(\"sample_mean :,\",sample_mean)\n",
    "\n",
    "# Calculating the sample variance\n",
    "sample_variance = np.var(random_sample)\n",
    "print(\"Sample_variance :\",sample_variance)"
   ]
  },
  {
   "cell_type": "markdown",
   "id": "8df5085c-2b46-4efd-bccd-340d490f5fb5",
   "metadata": {},
   "source": [
    "Q9. How mean and variance are related in Binomial distribution and Poisson distribution?"
   ]
  },
  {
   "cell_type": "markdown",
   "id": "43d58d5b-13d0-4e28-8429-7dba207f017b",
   "metadata": {},
   "source": [
    "\n",
    "The relationship between the mean and variance in the Binomial distribution and the Poisson distribution is different, and it reflects the underlying characteristics of each distribution:                                    \n",
    "\n",
    "1. Binomial Distribution:                                                  \n",
    "\n",
    "Mean (μ): In a Binomial distribution, the mean (μ) is equal to the product of the number of trials (n) and the probability of success (p). Mathematically, μ = np.                                    \n",
    "Variance (σ^2): The variance (σ^2) of a Binomial distribution is calculated as the product of the number of trials (n), the probability of success (p), and the probability of failure (1 - p). Mathematically, σ^2 = np(1 - p).      \n",
    "Relationship: The variance in a Binomial distribution is directly proportional to both the number of trials (n) and the probability of success (p). If you increase either the number of trials or the probability of success, the variance increases as well.                                                                               \n",
    "2. Poisson Distribution:                                                            \n",
    "\n",
    "Mean (λ): In a Poisson distribution, the mean (λ) is equal to the average rate of events or occurrences within a fixed interval. Mathematically, λ is the same as the mean.                                         \n",
    "Variance (σ^2): The variance (σ^2) of a Poisson distribution is also equal to the mean (λ). Mathematically, σ^2 = λ.                                                                                          \n",
    "Relationship: In a Poisson distribution, the variance is equal to the mean. This is a unique property of the Poisson distribution and reflects the assumption that the events occur independently and at a constant average rate.                                                              \n",
    "In summary, in the Binomial distribution, the variance is directly related to both the number of trials and the probability of success, leading to an increase in variance as these values increase. In contrast, the Poisson distribution has a fixed relationship between the mean and variance, where the variance is equal to the mean. This property reflects the assumption of a constant event rate and independence in the Poisson process."
   ]
  },
  {
   "cell_type": "markdown",
   "id": "633910fa-b04e-4d37-a16e-d3851d9f090e",
   "metadata": {},
   "source": [
    "Q10. In normal distribution with respect to mean position, where does the least frequent data appear?"
   ]
  },
  {
   "cell_type": "markdown",
   "id": "73cd8b62-1b3b-4b85-8299-01d1b7454ff6",
   "metadata": {},
   "source": [
    "In a normal distribution, also known as a Gaussian distribution, data is symmetrically distributed around the mean. This means that the least frequent data points appear in the tails or extreme ends of the distribution, farthest away from the mean."
   ]
  }
 ],
 "metadata": {
  "kernelspec": {
   "display_name": "Python 3 (ipykernel)",
   "language": "python",
   "name": "python3"
  },
  "language_info": {
   "codemirror_mode": {
    "name": "ipython",
    "version": 3
   },
   "file_extension": ".py",
   "mimetype": "text/x-python",
   "name": "python",
   "nbconvert_exporter": "python",
   "pygments_lexer": "ipython3",
   "version": "3.10.8"
  }
 },
 "nbformat": 4,
 "nbformat_minor": 5
}
